{
 "cells": [
  {
   "cell_type": "code",
   "execution_count": 7,
   "metadata": {},
   "source": [
    "import pandas as pd\n",
    "import numpy as np\n",
    "from PIL import Image\n",
    "import matplotlib.pyplot as plt\n",
    "import os\n",
    "\n",
    "data = pd.read_csv(\"dataset/data/feathers_data_normalized.csv\")\n",
    "\n",
    "sizes = pd.DataFrame(columns=[\"width\", \"height\"])\n",
    "\n",
    "for index, row in data.iterrows():\n",
    "    filename = row['filename'].split(\"_\")\n",
    "    path_to = os.path.join(\"dataset\", \"images\", filename[0], \"_\".join(filename[1:-1]), row['filename'])\n",
    "    \n",
    "    img = Image.open(path_to)\n",
    "    width, height = Image.open(path_to).size\n",
    "    if width > height:\n",
    "        img = img.rotate(90, expand=True)\n",
    "    img = img.resize((40, 240))\n",
    "\n",
    "    width, height = img.size\n",
    "    if width > height:\n",
    "        width, height = height, width\n",
    "    sizes.loc[len(sizes)] = {\"width\": width, \"height\": height}"
   ],
   "outputs": []
  },
  {
   "cell_type": "code",
   "execution_count": 5,
   "metadata": {},
   "source": [
    "plt.figure(figsize=(16, 8))\n",
    "i = 1\n",
    "for index, row in data.sample(n=12).iterrows():\n",
    "    filename = row['filename'].split(\"_\")\n",
    "    path_to = os.path.join(\"dataset\", \"images\", filename[0], \"_\".join(filename[1:-1]), row['filename'])\n",
    "\n",
    "    img = Image.open(path_to)\n",
    "    width, height = Image.open(path_to).size\n",
    "    if width > height:\n",
    "        img = img.rotate(90, expand=True)\n",
    "    img = img.resize((40, 240))\n",
    "    _ = plt.subplot(2, 6, i)\n",
    "    plt.imshow(img)\n",
    "    i+=1\n",
    "\n",
    "plt.show()\n"
   ],
   "outputs": []
  },
  {
   "cell_type": "code",
   "execution_count": 6,
   "metadata": {},
   "source": [
    "\n",
    "plt.figure(figsize=(16, 8))\n",
    "\n",
    "plt.subplot(121)\n",
    "plt.scatter(sizes['width'], sizes['height'], s=2)\n",
    "plt.xlabel(\"Ширина\")\n",
    "plt.ylabel(\"Высота\")\n",
    "plt.title(\"График распределения записей по ширине и высоте\")\n",
    "\n",
    "plt.subplot(122)\n",
    "plt.hist2d(sizes['width'], sizes['height'], bins=(200, 200), cmap=\"YlGnBu\")\n",
    "plt.xlabel(\"Ширина\")\n",
    "plt.ylabel(\"Высота\")\n",
    "plt.title(\"2D гистограмма количества записей по ширине и высоте\")\n",
    "plt.colorbar(label=\"Количество записей\")\n",
    "\n",
    "plt.savefig(\"p5.png\")\n",
    "plt.show()"
   ],
   "outputs": []
  },
  {
   "cell_type": "code",
   "execution_count": null,
   "metadata": {},
   "source": [
    "import torch\n",
    "\n"
   ],
   "outputs": []
  }
 ],
 "metadata": {
  "kernelspec": {
   "display_name": "feathers-recognition",
   "language": "python",
   "name": "python3"
  },
  "language_info": {
   "codemirror_mode": {
    "name": "ipython",
    "version": 3
   },
   "file_extension": ".py",
   "mimetype": "text/x-python",
   "name": "python",
   "nbconvert_exporter": "python",
   "pygments_lexer": "ipython3",
   "version": "3.11.8"
  },
  "orig_nbformat": 4
 },
 "nbformat": 4,
 "nbformat_minor": 2
}
