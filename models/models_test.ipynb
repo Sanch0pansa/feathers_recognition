{
 "cells": [
  {
   "cell_type": "code",
   "id": "initial_id",
   "metadata": {
    "collapsed": true,
    "ExecuteTime": {
     "end_time": "2024-04-24T08:32:25.950652Z",
     "start_time": "2024-04-24T08:32:25.947304Z"
    }
   },
   "source": [
    "import torch\n",
    "from torch import nn\n",
    "import torchvision.models as models"
   ],
   "outputs": [],
   "execution_count": 48
  },
  {
   "metadata": {
    "ExecuteTime": {
     "end_time": "2024-04-24T08:32:25.954895Z",
     "start_time": "2024-04-24T08:32:25.952670Z"
    }
   },
   "cell_type": "code",
   "source": [
    "def get_classifier(in_features: int):\n",
    "    return nn.Linear(in_features=in_features, out_features=594)"
   ],
   "id": "fbc82c4d7fb3bd0d",
   "outputs": [],
   "execution_count": 49
  },
  {
   "metadata": {
    "ExecuteTime": {
     "end_time": "2024-04-24T08:32:25.958329Z",
     "start_time": "2024-04-24T08:32:25.955824Z"
    }
   },
   "cell_type": "code",
   "source": [
    "def handle_densenet_model(model: nn.Module, weights: str, save_to: str | None = None):\n",
    "    model.classifier = get_classifier(in_features=model.classifier.in_features)\n",
    "    \n",
    "    if weights:\n",
    "        model.load_state_dict(torch.load(weights))\n",
    "    \n",
    "    if save_to is not None:\n",
    "        torch.save(model.state_dict(), save_to)\n",
    "    \n",
    "    return model"
   ],
   "id": "86f1e937d863b216",
   "outputs": [],
   "execution_count": 50
  },
  {
   "metadata": {
    "ExecuteTime": {
     "end_time": "2024-04-24T13:29:59.956124Z",
     "start_time": "2024-04-24T13:29:59.950130Z"
    }
   },
   "cell_type": "code",
   "source": [
    "def handle_resnet_model(model: nn.Module, weights: str, save_to: str | None = None):\n",
    "    model.fc = get_classifier(in_features=model.fc.in_features)\n",
    "    \n",
    "    if weights:\n",
    "        model.load_state_dict(torch.load(weights))\n",
    "    \n",
    "    if save_to is not None:\n",
    "        torch.save(model.state_dict(), save_to)\n",
    "    \n",
    "    return model"
   ],
   "id": "de342e7a68b7583f",
   "outputs": [],
   "execution_count": 80
  },
  {
   "metadata": {
    "ExecuteTime": {
     "end_time": "2024-04-24T08:32:25.961010Z",
     "start_time": "2024-04-24T08:32:25.959250Z"
    }
   },
   "cell_type": "code",
   "source": [
    "def get_dense121(weights: str | None = None, save_to: str | None = None):\n",
    "    model = models.densenet121(weights='DEFAULT')\n",
    "    return handle_densenet_model(model, weights, save_to)\n",
    "    "
   ],
   "id": "b9bcb93a6154d6f0",
   "outputs": [],
   "execution_count": 51
  },
  {
   "metadata": {
    "ExecuteTime": {
     "end_time": "2024-04-24T08:32:25.964125Z",
     "start_time": "2024-04-24T08:32:25.961595Z"
    }
   },
   "cell_type": "code",
   "source": [
    "def get_dense161(weights: str | None = None, save_to: str | None = None):\n",
    "    model = models.densenet161(weights='DEFAULT')\n",
    "    return handle_densenet_model(model, weights, save_to)"
   ],
   "id": "5e6013edd07c4e4",
   "outputs": [],
   "execution_count": 52
  },
  {
   "metadata": {
    "ExecuteTime": {
     "end_time": "2024-04-24T08:32:25.967069Z",
     "start_time": "2024-04-24T08:32:25.965135Z"
    }
   },
   "cell_type": "code",
   "source": [
    "def get_dense169(weights: str | None = None, save_to: str | None = None):\n",
    "    model = models.densenet169(weights='DEFAULT')\n",
    "    return handle_densenet_model(model, weights, save_to)"
   ],
   "id": "6fd5052a522d14b9",
   "outputs": [],
   "execution_count": 53
  },
  {
   "metadata": {
    "ExecuteTime": {
     "end_time": "2024-04-24T08:32:25.970710Z",
     "start_time": "2024-04-24T08:32:25.969031Z"
    }
   },
   "cell_type": "code",
   "source": [
    "def get_dense201(weights: str | None = None, save_to: str | None = None):\n",
    "    model = models.densenet201(weights='DEFAULT')\n",
    "    return handle_densenet_model(model, weights, save_to)"
   ],
   "id": "719ee2828cca25b1",
   "outputs": [],
   "execution_count": 54
  },
  {
   "metadata": {
    "ExecuteTime": {
     "end_time": "2024-04-24T13:30:03.348795Z",
     "start_time": "2024-04-24T13:30:03.345090Z"
    }
   },
   "cell_type": "code",
   "source": [
    "def get_resnet50(weights: str | None = None, save_to: str | None = None):\n",
    "    model = models.resnet50(weights='DEFAULT')\n",
    "    return handle_resnet_model(model, weights, save_to)"
   ],
   "id": "828b48824276a464",
   "outputs": [],
   "execution_count": 81
  },
  {
   "metadata": {
    "ExecuteTime": {
     "end_time": "2024-04-24T08:32:25.972939Z",
     "start_time": "2024-04-24T08:32:25.971429Z"
    }
   },
   "cell_type": "code",
   "source": "img = torch.zeros(1, 3, 224, 224)",
   "id": "d5459dc6504a8165",
   "outputs": [],
   "execution_count": 55
  },
  {
   "metadata": {
    "ExecuteTime": {
     "end_time": "2024-04-24T08:32:26.171227Z",
     "start_time": "2024-04-24T08:32:25.974119Z"
    }
   },
   "cell_type": "code",
   "source": "dense121 = get_dense121(save_to=\"./weights/densenet121.pt\")",
   "id": "a4f4de59312a8867",
   "outputs": [],
   "execution_count": 56
  },
  {
   "metadata": {
    "ExecuteTime": {
     "end_time": "2024-04-24T08:40:24.478827Z",
     "start_time": "2024-04-24T08:40:23.795871Z"
    }
   },
   "cell_type": "code",
   "source": "dense161 = get_dense161(save_to=\"./weights/densenet161.pt\")",
   "id": "8e906ccea9c54666",
   "outputs": [],
   "execution_count": 68
  },
  {
   "metadata": {
    "ExecuteTime": {
     "end_time": "2024-04-24T08:36:51.804310Z",
     "start_time": "2024-04-24T08:36:51.417814Z"
    }
   },
   "cell_type": "code",
   "source": "dense169 = get_dense169(save_to=\"./weights/densenet169.pt\")",
   "id": "b7919e2d92f60d39",
   "outputs": [],
   "execution_count": 60
  },
  {
   "metadata": {
    "ExecuteTime": {
     "end_time": "2024-04-24T08:39:31.902591Z",
     "start_time": "2024-04-24T08:39:31.400412Z"
    }
   },
   "cell_type": "code",
   "source": "dense201 = get_dense201(save_to=\"./weights/densenet201.pt\")",
   "id": "58255610e7283e38",
   "outputs": [],
   "execution_count": 62
  },
  {
   "metadata": {
    "ExecuteTime": {
     "end_time": "2024-04-24T08:39:40.854794Z",
     "start_time": "2024-04-24T08:39:40.687352Z"
    }
   },
   "cell_type": "code",
   "source": [
    "res = dense121(img)\n",
    "\n",
    "print(res.shape)"
   ],
   "id": "514957f8d23baf88",
   "outputs": [
    {
     "name": "stdout",
     "output_type": "stream",
     "text": [
      "torch.Size([1, 594])\n"
     ]
    }
   ],
   "execution_count": 63
  },
  {
   "metadata": {
    "ExecuteTime": {
     "end_time": "2024-04-24T08:39:44.518737Z",
     "start_time": "2024-04-24T08:39:44.296369Z"
    }
   },
   "cell_type": "code",
   "source": [
    "res = dense161(img)\n",
    "\n",
    "print(res.shape)"
   ],
   "id": "e8ee4cbe16e1bf55",
   "outputs": [
    {
     "name": "stdout",
     "output_type": "stream",
     "text": [
      "torch.Size([1, 594])\n"
     ]
    }
   ],
   "execution_count": 64
  },
  {
   "metadata": {
    "ExecuteTime": {
     "end_time": "2024-04-24T08:39:45.899363Z",
     "start_time": "2024-04-24T08:39:45.755710Z"
    }
   },
   "cell_type": "code",
   "source": [
    "res = dense169(img)\n",
    "\n",
    "print(res.shape)"
   ],
   "id": "13d65a0da3bd4843",
   "outputs": [
    {
     "name": "stdout",
     "output_type": "stream",
     "text": [
      "torch.Size([1, 594])\n"
     ]
    }
   ],
   "execution_count": 65
  },
  {
   "metadata": {
    "ExecuteTime": {
     "end_time": "2024-04-24T08:39:48.920941Z",
     "start_time": "2024-04-24T08:39:48.753093Z"
    }
   },
   "cell_type": "code",
   "source": [
    "res = dense201(img)\n",
    "\n",
    "print(res.shape)"
   ],
   "id": "347226f0e58fd797",
   "outputs": [
    {
     "name": "stdout",
     "output_type": "stream",
     "text": [
      "torch.Size([1, 594])\n"
     ]
    }
   ],
   "execution_count": 66
  },
  {
   "metadata": {
    "ExecuteTime": {
     "end_time": "2024-04-24T08:44:09.358152Z",
     "start_time": "2024-04-24T08:44:09.355275Z"
    }
   },
   "cell_type": "code",
   "source": "from torchsummary import summary",
   "id": "aa46b31c4496ab9b",
   "outputs": [],
   "execution_count": 72
  },
  {
   "metadata": {
    "ExecuteTime": {
     "end_time": "2024-04-24T08:47:08.642070Z",
     "start_time": "2024-04-24T08:47:08.400221Z"
    }
   },
   "cell_type": "code",
   "source": "summary(dense161, (3, 224, 224))",
   "id": "85de6979dcff5516",
   "outputs": [
    {
     "name": "stdout",
     "output_type": "stream",
     "text": [
      "==========================================================================================\n",
      "Layer (type:depth-idx)                   Output Shape              Param #\n",
      "==========================================================================================\n",
      "├─Sequential: 1-1                        [-1, 2208, 7, 7]          --\n",
      "|    └─Conv2d: 2-1                       [-1, 96, 112, 112]        14,112\n",
      "|    └─BatchNorm2d: 2-2                  [-1, 96, 112, 112]        192\n",
      "|    └─ReLU: 2-3                         [-1, 96, 112, 112]        --\n",
      "|    └─MaxPool2d: 2-4                    [-1, 96, 56, 56]          --\n",
      "|    └─_DenseBlock: 2-5                  [-1, 384, 56, 56]         --\n",
      "|    |    └─_DenseLayer: 3-1             [-1, 48, 56, 56]          101,952\n",
      "|    |    └─_DenseLayer: 3-2             [-1, 48, 56, 56]          111,264\n",
      "|    |    └─_DenseLayer: 3-3             [-1, 48, 56, 56]          120,576\n",
      "|    |    └─_DenseLayer: 3-4             [-1, 48, 56, 56]          129,888\n",
      "|    |    └─_DenseLayer: 3-5             [-1, 48, 56, 56]          139,200\n",
      "|    |    └─_DenseLayer: 3-6             [-1, 48, 56, 56]          148,512\n",
      "|    └─_Transition: 2-6                  [-1, 192, 28, 28]         --\n",
      "|    |    └─BatchNorm2d: 3-7             [-1, 384, 56, 56]         768\n",
      "|    |    └─ReLU: 3-8                    [-1, 384, 56, 56]         --\n",
      "|    |    └─Conv2d: 3-9                  [-1, 192, 56, 56]         73,728\n",
      "|    |    └─AvgPool2d: 3-10              [-1, 192, 28, 28]         --\n",
      "|    └─_DenseBlock: 2-7                  [-1, 768, 28, 28]         --\n",
      "|    |    └─_DenseLayer: 3-11            [-1, 48, 28, 28]          120,576\n",
      "|    |    └─_DenseLayer: 3-12            [-1, 48, 28, 28]          129,888\n",
      "|    |    └─_DenseLayer: 3-13            [-1, 48, 28, 28]          139,200\n",
      "|    |    └─_DenseLayer: 3-14            [-1, 48, 28, 28]          148,512\n",
      "|    |    └─_DenseLayer: 3-15            [-1, 48, 28, 28]          157,824\n",
      "|    |    └─_DenseLayer: 3-16            [-1, 48, 28, 28]          167,136\n",
      "|    |    └─_DenseLayer: 3-17            [-1, 48, 28, 28]          176,448\n",
      "|    |    └─_DenseLayer: 3-18            [-1, 48, 28, 28]          185,760\n",
      "|    |    └─_DenseLayer: 3-19            [-1, 48, 28, 28]          195,072\n",
      "|    |    └─_DenseLayer: 3-20            [-1, 48, 28, 28]          204,384\n",
      "|    |    └─_DenseLayer: 3-21            [-1, 48, 28, 28]          213,696\n",
      "|    |    └─_DenseLayer: 3-22            [-1, 48, 28, 28]          223,008\n",
      "|    └─_Transition: 2-8                  [-1, 384, 14, 14]         --\n",
      "|    |    └─BatchNorm2d: 3-23            [-1, 768, 28, 28]         1,536\n",
      "|    |    └─ReLU: 3-24                   [-1, 768, 28, 28]         --\n",
      "|    |    └─Conv2d: 3-25                 [-1, 384, 28, 28]         294,912\n",
      "|    |    └─AvgPool2d: 3-26              [-1, 384, 14, 14]         --\n",
      "|    └─_DenseBlock: 2-9                  [-1, 2112, 14, 14]        --\n",
      "|    |    └─_DenseLayer: 3-27            [-1, 48, 14, 14]          157,824\n",
      "|    |    └─_DenseLayer: 3-28            [-1, 48, 14, 14]          167,136\n",
      "|    |    └─_DenseLayer: 3-29            [-1, 48, 14, 14]          176,448\n",
      "|    |    └─_DenseLayer: 3-30            [-1, 48, 14, 14]          185,760\n",
      "|    |    └─_DenseLayer: 3-31            [-1, 48, 14, 14]          195,072\n",
      "|    |    └─_DenseLayer: 3-32            [-1, 48, 14, 14]          204,384\n",
      "|    |    └─_DenseLayer: 3-33            [-1, 48, 14, 14]          213,696\n",
      "|    |    └─_DenseLayer: 3-34            [-1, 48, 14, 14]          223,008\n",
      "|    |    └─_DenseLayer: 3-35            [-1, 48, 14, 14]          232,320\n",
      "|    |    └─_DenseLayer: 3-36            [-1, 48, 14, 14]          241,632\n",
      "|    |    └─_DenseLayer: 3-37            [-1, 48, 14, 14]          250,944\n",
      "|    |    └─_DenseLayer: 3-38            [-1, 48, 14, 14]          260,256\n",
      "|    |    └─_DenseLayer: 3-39            [-1, 48, 14, 14]          269,568\n",
      "|    |    └─_DenseLayer: 3-40            [-1, 48, 14, 14]          278,880\n",
      "|    |    └─_DenseLayer: 3-41            [-1, 48, 14, 14]          288,192\n",
      "|    |    └─_DenseLayer: 3-42            [-1, 48, 14, 14]          297,504\n",
      "|    |    └─_DenseLayer: 3-43            [-1, 48, 14, 14]          306,816\n",
      "|    |    └─_DenseLayer: 3-44            [-1, 48, 14, 14]          316,128\n",
      "|    |    └─_DenseLayer: 3-45            [-1, 48, 14, 14]          325,440\n",
      "|    |    └─_DenseLayer: 3-46            [-1, 48, 14, 14]          334,752\n",
      "|    |    └─_DenseLayer: 3-47            [-1, 48, 14, 14]          344,064\n",
      "|    |    └─_DenseLayer: 3-48            [-1, 48, 14, 14]          353,376\n",
      "|    |    └─_DenseLayer: 3-49            [-1, 48, 14, 14]          362,688\n",
      "|    |    └─_DenseLayer: 3-50            [-1, 48, 14, 14]          372,000\n",
      "|    |    └─_DenseLayer: 3-51            [-1, 48, 14, 14]          381,312\n",
      "|    |    └─_DenseLayer: 3-52            [-1, 48, 14, 14]          390,624\n",
      "|    |    └─_DenseLayer: 3-53            [-1, 48, 14, 14]          399,936\n",
      "|    |    └─_DenseLayer: 3-54            [-1, 48, 14, 14]          409,248\n",
      "|    |    └─_DenseLayer: 3-55            [-1, 48, 14, 14]          418,560\n",
      "|    |    └─_DenseLayer: 3-56            [-1, 48, 14, 14]          427,872\n",
      "|    |    └─_DenseLayer: 3-57            [-1, 48, 14, 14]          437,184\n",
      "|    |    └─_DenseLayer: 3-58            [-1, 48, 14, 14]          446,496\n",
      "|    |    └─_DenseLayer: 3-59            [-1, 48, 14, 14]          455,808\n",
      "|    |    └─_DenseLayer: 3-60            [-1, 48, 14, 14]          465,120\n",
      "|    |    └─_DenseLayer: 3-61            [-1, 48, 14, 14]          474,432\n",
      "|    |    └─_DenseLayer: 3-62            [-1, 48, 14, 14]          483,744\n",
      "|    └─_Transition: 2-10                 [-1, 1056, 7, 7]          --\n",
      "|    |    └─BatchNorm2d: 3-63            [-1, 2112, 14, 14]        4,224\n",
      "|    |    └─ReLU: 3-64                   [-1, 2112, 14, 14]        --\n",
      "|    |    └─Conv2d: 3-65                 [-1, 1056, 14, 14]        2,230,272\n",
      "|    |    └─AvgPool2d: 3-66              [-1, 1056, 7, 7]          --\n",
      "|    └─_DenseBlock: 2-11                 [-1, 2208, 7, 7]          --\n",
      "|    |    └─_DenseLayer: 3-67            [-1, 48, 7, 7]            288,192\n",
      "|    |    └─_DenseLayer: 3-68            [-1, 48, 7, 7]            297,504\n",
      "|    |    └─_DenseLayer: 3-69            [-1, 48, 7, 7]            306,816\n",
      "|    |    └─_DenseLayer: 3-70            [-1, 48, 7, 7]            316,128\n",
      "|    |    └─_DenseLayer: 3-71            [-1, 48, 7, 7]            325,440\n",
      "|    |    └─_DenseLayer: 3-72            [-1, 48, 7, 7]            334,752\n",
      "|    |    └─_DenseLayer: 3-73            [-1, 48, 7, 7]            344,064\n",
      "|    |    └─_DenseLayer: 3-74            [-1, 48, 7, 7]            353,376\n",
      "|    |    └─_DenseLayer: 3-75            [-1, 48, 7, 7]            362,688\n",
      "|    |    └─_DenseLayer: 3-76            [-1, 48, 7, 7]            372,000\n",
      "|    |    └─_DenseLayer: 3-77            [-1, 48, 7, 7]            381,312\n",
      "|    |    └─_DenseLayer: 3-78            [-1, 48, 7, 7]            390,624\n",
      "|    |    └─_DenseLayer: 3-79            [-1, 48, 7, 7]            399,936\n",
      "|    |    └─_DenseLayer: 3-80            [-1, 48, 7, 7]            409,248\n",
      "|    |    └─_DenseLayer: 3-81            [-1, 48, 7, 7]            418,560\n",
      "|    |    └─_DenseLayer: 3-82            [-1, 48, 7, 7]            427,872\n",
      "|    |    └─_DenseLayer: 3-83            [-1, 48, 7, 7]            437,184\n",
      "|    |    └─_DenseLayer: 3-84            [-1, 48, 7, 7]            446,496\n",
      "|    |    └─_DenseLayer: 3-85            [-1, 48, 7, 7]            455,808\n",
      "|    |    └─_DenseLayer: 3-86            [-1, 48, 7, 7]            465,120\n",
      "|    |    └─_DenseLayer: 3-87            [-1, 48, 7, 7]            474,432\n",
      "|    |    └─_DenseLayer: 3-88            [-1, 48, 7, 7]            483,744\n",
      "|    |    └─_DenseLayer: 3-89            [-1, 48, 7, 7]            493,056\n",
      "|    |    └─_DenseLayer: 3-90            [-1, 48, 7, 7]            502,368\n",
      "|    └─BatchNorm2d: 2-12                 [-1, 2208, 7, 7]          4,416\n",
      "├─Linear: 1-2                            [-1, 594]                 1,312,146\n",
      "==========================================================================================\n",
      "Total params: 27,784,146\n",
      "Trainable params: 27,784,146\n",
      "Non-trainable params: 0\n",
      "Total mult-adds (G): 7.80\n",
      "==========================================================================================\n",
      "Input size (MB): 0.57\n",
      "Forward/backward pass size (MB): 308.83\n",
      "Params size (MB): 105.99\n",
      "Estimated Total Size (MB): 415.39\n",
      "==========================================================================================\n"
     ]
    },
    {
     "data": {
      "text/plain": [
       "==========================================================================================\n",
       "Layer (type:depth-idx)                   Output Shape              Param #\n",
       "==========================================================================================\n",
       "├─Sequential: 1-1                        [-1, 2208, 7, 7]          --\n",
       "|    └─Conv2d: 2-1                       [-1, 96, 112, 112]        14,112\n",
       "|    └─BatchNorm2d: 2-2                  [-1, 96, 112, 112]        192\n",
       "|    └─ReLU: 2-3                         [-1, 96, 112, 112]        --\n",
       "|    └─MaxPool2d: 2-4                    [-1, 96, 56, 56]          --\n",
       "|    └─_DenseBlock: 2-5                  [-1, 384, 56, 56]         --\n",
       "|    |    └─_DenseLayer: 3-1             [-1, 48, 56, 56]          101,952\n",
       "|    |    └─_DenseLayer: 3-2             [-1, 48, 56, 56]          111,264\n",
       "|    |    └─_DenseLayer: 3-3             [-1, 48, 56, 56]          120,576\n",
       "|    |    └─_DenseLayer: 3-4             [-1, 48, 56, 56]          129,888\n",
       "|    |    └─_DenseLayer: 3-5             [-1, 48, 56, 56]          139,200\n",
       "|    |    └─_DenseLayer: 3-6             [-1, 48, 56, 56]          148,512\n",
       "|    └─_Transition: 2-6                  [-1, 192, 28, 28]         --\n",
       "|    |    └─BatchNorm2d: 3-7             [-1, 384, 56, 56]         768\n",
       "|    |    └─ReLU: 3-8                    [-1, 384, 56, 56]         --\n",
       "|    |    └─Conv2d: 3-9                  [-1, 192, 56, 56]         73,728\n",
       "|    |    └─AvgPool2d: 3-10              [-1, 192, 28, 28]         --\n",
       "|    └─_DenseBlock: 2-7                  [-1, 768, 28, 28]         --\n",
       "|    |    └─_DenseLayer: 3-11            [-1, 48, 28, 28]          120,576\n",
       "|    |    └─_DenseLayer: 3-12            [-1, 48, 28, 28]          129,888\n",
       "|    |    └─_DenseLayer: 3-13            [-1, 48, 28, 28]          139,200\n",
       "|    |    └─_DenseLayer: 3-14            [-1, 48, 28, 28]          148,512\n",
       "|    |    └─_DenseLayer: 3-15            [-1, 48, 28, 28]          157,824\n",
       "|    |    └─_DenseLayer: 3-16            [-1, 48, 28, 28]          167,136\n",
       "|    |    └─_DenseLayer: 3-17            [-1, 48, 28, 28]          176,448\n",
       "|    |    └─_DenseLayer: 3-18            [-1, 48, 28, 28]          185,760\n",
       "|    |    └─_DenseLayer: 3-19            [-1, 48, 28, 28]          195,072\n",
       "|    |    └─_DenseLayer: 3-20            [-1, 48, 28, 28]          204,384\n",
       "|    |    └─_DenseLayer: 3-21            [-1, 48, 28, 28]          213,696\n",
       "|    |    └─_DenseLayer: 3-22            [-1, 48, 28, 28]          223,008\n",
       "|    └─_Transition: 2-8                  [-1, 384, 14, 14]         --\n",
       "|    |    └─BatchNorm2d: 3-23            [-1, 768, 28, 28]         1,536\n",
       "|    |    └─ReLU: 3-24                   [-1, 768, 28, 28]         --\n",
       "|    |    └─Conv2d: 3-25                 [-1, 384, 28, 28]         294,912\n",
       "|    |    └─AvgPool2d: 3-26              [-1, 384, 14, 14]         --\n",
       "|    └─_DenseBlock: 2-9                  [-1, 2112, 14, 14]        --\n",
       "|    |    └─_DenseLayer: 3-27            [-1, 48, 14, 14]          157,824\n",
       "|    |    └─_DenseLayer: 3-28            [-1, 48, 14, 14]          167,136\n",
       "|    |    └─_DenseLayer: 3-29            [-1, 48, 14, 14]          176,448\n",
       "|    |    └─_DenseLayer: 3-30            [-1, 48, 14, 14]          185,760\n",
       "|    |    └─_DenseLayer: 3-31            [-1, 48, 14, 14]          195,072\n",
       "|    |    └─_DenseLayer: 3-32            [-1, 48, 14, 14]          204,384\n",
       "|    |    └─_DenseLayer: 3-33            [-1, 48, 14, 14]          213,696\n",
       "|    |    └─_DenseLayer: 3-34            [-1, 48, 14, 14]          223,008\n",
       "|    |    └─_DenseLayer: 3-35            [-1, 48, 14, 14]          232,320\n",
       "|    |    └─_DenseLayer: 3-36            [-1, 48, 14, 14]          241,632\n",
       "|    |    └─_DenseLayer: 3-37            [-1, 48, 14, 14]          250,944\n",
       "|    |    └─_DenseLayer: 3-38            [-1, 48, 14, 14]          260,256\n",
       "|    |    └─_DenseLayer: 3-39            [-1, 48, 14, 14]          269,568\n",
       "|    |    └─_DenseLayer: 3-40            [-1, 48, 14, 14]          278,880\n",
       "|    |    └─_DenseLayer: 3-41            [-1, 48, 14, 14]          288,192\n",
       "|    |    └─_DenseLayer: 3-42            [-1, 48, 14, 14]          297,504\n",
       "|    |    └─_DenseLayer: 3-43            [-1, 48, 14, 14]          306,816\n",
       "|    |    └─_DenseLayer: 3-44            [-1, 48, 14, 14]          316,128\n",
       "|    |    └─_DenseLayer: 3-45            [-1, 48, 14, 14]          325,440\n",
       "|    |    └─_DenseLayer: 3-46            [-1, 48, 14, 14]          334,752\n",
       "|    |    └─_DenseLayer: 3-47            [-1, 48, 14, 14]          344,064\n",
       "|    |    └─_DenseLayer: 3-48            [-1, 48, 14, 14]          353,376\n",
       "|    |    └─_DenseLayer: 3-49            [-1, 48, 14, 14]          362,688\n",
       "|    |    └─_DenseLayer: 3-50            [-1, 48, 14, 14]          372,000\n",
       "|    |    └─_DenseLayer: 3-51            [-1, 48, 14, 14]          381,312\n",
       "|    |    └─_DenseLayer: 3-52            [-1, 48, 14, 14]          390,624\n",
       "|    |    └─_DenseLayer: 3-53            [-1, 48, 14, 14]          399,936\n",
       "|    |    └─_DenseLayer: 3-54            [-1, 48, 14, 14]          409,248\n",
       "|    |    └─_DenseLayer: 3-55            [-1, 48, 14, 14]          418,560\n",
       "|    |    └─_DenseLayer: 3-56            [-1, 48, 14, 14]          427,872\n",
       "|    |    └─_DenseLayer: 3-57            [-1, 48, 14, 14]          437,184\n",
       "|    |    └─_DenseLayer: 3-58            [-1, 48, 14, 14]          446,496\n",
       "|    |    └─_DenseLayer: 3-59            [-1, 48, 14, 14]          455,808\n",
       "|    |    └─_DenseLayer: 3-60            [-1, 48, 14, 14]          465,120\n",
       "|    |    └─_DenseLayer: 3-61            [-1, 48, 14, 14]          474,432\n",
       "|    |    └─_DenseLayer: 3-62            [-1, 48, 14, 14]          483,744\n",
       "|    └─_Transition: 2-10                 [-1, 1056, 7, 7]          --\n",
       "|    |    └─BatchNorm2d: 3-63            [-1, 2112, 14, 14]        4,224\n",
       "|    |    └─ReLU: 3-64                   [-1, 2112, 14, 14]        --\n",
       "|    |    └─Conv2d: 3-65                 [-1, 1056, 14, 14]        2,230,272\n",
       "|    |    └─AvgPool2d: 3-66              [-1, 1056, 7, 7]          --\n",
       "|    └─_DenseBlock: 2-11                 [-1, 2208, 7, 7]          --\n",
       "|    |    └─_DenseLayer: 3-67            [-1, 48, 7, 7]            288,192\n",
       "|    |    └─_DenseLayer: 3-68            [-1, 48, 7, 7]            297,504\n",
       "|    |    └─_DenseLayer: 3-69            [-1, 48, 7, 7]            306,816\n",
       "|    |    └─_DenseLayer: 3-70            [-1, 48, 7, 7]            316,128\n",
       "|    |    └─_DenseLayer: 3-71            [-1, 48, 7, 7]            325,440\n",
       "|    |    └─_DenseLayer: 3-72            [-1, 48, 7, 7]            334,752\n",
       "|    |    └─_DenseLayer: 3-73            [-1, 48, 7, 7]            344,064\n",
       "|    |    └─_DenseLayer: 3-74            [-1, 48, 7, 7]            353,376\n",
       "|    |    └─_DenseLayer: 3-75            [-1, 48, 7, 7]            362,688\n",
       "|    |    └─_DenseLayer: 3-76            [-1, 48, 7, 7]            372,000\n",
       "|    |    └─_DenseLayer: 3-77            [-1, 48, 7, 7]            381,312\n",
       "|    |    └─_DenseLayer: 3-78            [-1, 48, 7, 7]            390,624\n",
       "|    |    └─_DenseLayer: 3-79            [-1, 48, 7, 7]            399,936\n",
       "|    |    └─_DenseLayer: 3-80            [-1, 48, 7, 7]            409,248\n",
       "|    |    └─_DenseLayer: 3-81            [-1, 48, 7, 7]            418,560\n",
       "|    |    └─_DenseLayer: 3-82            [-1, 48, 7, 7]            427,872\n",
       "|    |    └─_DenseLayer: 3-83            [-1, 48, 7, 7]            437,184\n",
       "|    |    └─_DenseLayer: 3-84            [-1, 48, 7, 7]            446,496\n",
       "|    |    └─_DenseLayer: 3-85            [-1, 48, 7, 7]            455,808\n",
       "|    |    └─_DenseLayer: 3-86            [-1, 48, 7, 7]            465,120\n",
       "|    |    └─_DenseLayer: 3-87            [-1, 48, 7, 7]            474,432\n",
       "|    |    └─_DenseLayer: 3-88            [-1, 48, 7, 7]            483,744\n",
       "|    |    └─_DenseLayer: 3-89            [-1, 48, 7, 7]            493,056\n",
       "|    |    └─_DenseLayer: 3-90            [-1, 48, 7, 7]            502,368\n",
       "|    └─BatchNorm2d: 2-12                 [-1, 2208, 7, 7]          4,416\n",
       "├─Linear: 1-2                            [-1, 594]                 1,312,146\n",
       "==========================================================================================\n",
       "Total params: 27,784,146\n",
       "Trainable params: 27,784,146\n",
       "Non-trainable params: 0\n",
       "Total mult-adds (G): 7.80\n",
       "==========================================================================================\n",
       "Input size (MB): 0.57\n",
       "Forward/backward pass size (MB): 308.83\n",
       "Params size (MB): 105.99\n",
       "Estimated Total Size (MB): 415.39\n",
       "=========================================================================================="
      ]
     },
     "execution_count": 75,
     "metadata": {},
     "output_type": "execute_result"
    }
   ],
   "execution_count": 75
  },
  {
   "metadata": {
    "ExecuteTime": {
     "end_time": "2024-04-24T13:30:07.696435Z",
     "start_time": "2024-04-24T13:30:07.047541Z"
    }
   },
   "cell_type": "code",
   "source": "resnet50 = get_resnet50(save_to=\"./weights/resnet50.pt\")",
   "id": "9e906088fa8326f1",
   "outputs": [],
   "execution_count": 82
  },
  {
   "metadata": {
    "ExecuteTime": {
     "end_time": "2024-04-24T13:30:49.258577Z",
     "start_time": "2024-04-24T13:30:49.100477Z"
    }
   },
   "cell_type": "code",
   "source": "summary(resnet50, (3, 224, 224))",
   "id": "6525ed729eeb5698",
   "outputs": [
    {
     "name": "stdout",
     "output_type": "stream",
     "text": [
      "==========================================================================================\n",
      "Layer (type:depth-idx)                   Output Shape              Param #\n",
      "==========================================================================================\n",
      "├─Conv2d: 1-1                            [-1, 64, 112, 112]        9,408\n",
      "├─BatchNorm2d: 1-2                       [-1, 64, 112, 112]        128\n",
      "├─ReLU: 1-3                              [-1, 64, 112, 112]        --\n",
      "├─MaxPool2d: 1-4                         [-1, 64, 56, 56]          --\n",
      "├─Sequential: 1-5                        [-1, 256, 56, 56]         --\n",
      "|    └─Bottleneck: 2-1                   [-1, 256, 56, 56]         --\n",
      "|    |    └─Conv2d: 3-1                  [-1, 64, 56, 56]          4,096\n",
      "|    |    └─BatchNorm2d: 3-2             [-1, 64, 56, 56]          128\n",
      "|    |    └─ReLU: 3-3                    [-1, 64, 56, 56]          --\n",
      "|    |    └─Conv2d: 3-4                  [-1, 64, 56, 56]          36,864\n",
      "|    |    └─BatchNorm2d: 3-5             [-1, 64, 56, 56]          128\n",
      "|    |    └─ReLU: 3-6                    [-1, 64, 56, 56]          --\n",
      "|    |    └─Conv2d: 3-7                  [-1, 256, 56, 56]         16,384\n",
      "|    |    └─BatchNorm2d: 3-8             [-1, 256, 56, 56]         512\n",
      "|    |    └─Sequential: 3-9              [-1, 256, 56, 56]         16,896\n",
      "|    |    └─ReLU: 3-10                   [-1, 256, 56, 56]         --\n",
      "|    └─Bottleneck: 2-2                   [-1, 256, 56, 56]         --\n",
      "|    |    └─Conv2d: 3-11                 [-1, 64, 56, 56]          16,384\n",
      "|    |    └─BatchNorm2d: 3-12            [-1, 64, 56, 56]          128\n",
      "|    |    └─ReLU: 3-13                   [-1, 64, 56, 56]          --\n",
      "|    |    └─Conv2d: 3-14                 [-1, 64, 56, 56]          36,864\n",
      "|    |    └─BatchNorm2d: 3-15            [-1, 64, 56, 56]          128\n",
      "|    |    └─ReLU: 3-16                   [-1, 64, 56, 56]          --\n",
      "|    |    └─Conv2d: 3-17                 [-1, 256, 56, 56]         16,384\n",
      "|    |    └─BatchNorm2d: 3-18            [-1, 256, 56, 56]         512\n",
      "|    |    └─ReLU: 3-19                   [-1, 256, 56, 56]         --\n",
      "|    └─Bottleneck: 2-3                   [-1, 256, 56, 56]         --\n",
      "|    |    └─Conv2d: 3-20                 [-1, 64, 56, 56]          16,384\n",
      "|    |    └─BatchNorm2d: 3-21            [-1, 64, 56, 56]          128\n",
      "|    |    └─ReLU: 3-22                   [-1, 64, 56, 56]          --\n",
      "|    |    └─Conv2d: 3-23                 [-1, 64, 56, 56]          36,864\n",
      "|    |    └─BatchNorm2d: 3-24            [-1, 64, 56, 56]          128\n",
      "|    |    └─ReLU: 3-25                   [-1, 64, 56, 56]          --\n",
      "|    |    └─Conv2d: 3-26                 [-1, 256, 56, 56]         16,384\n",
      "|    |    └─BatchNorm2d: 3-27            [-1, 256, 56, 56]         512\n",
      "|    |    └─ReLU: 3-28                   [-1, 256, 56, 56]         --\n",
      "├─Sequential: 1-6                        [-1, 512, 28, 28]         --\n",
      "|    └─Bottleneck: 2-4                   [-1, 512, 28, 28]         --\n",
      "|    |    └─Conv2d: 3-29                 [-1, 128, 56, 56]         32,768\n",
      "|    |    └─BatchNorm2d: 3-30            [-1, 128, 56, 56]         256\n",
      "|    |    └─ReLU: 3-31                   [-1, 128, 56, 56]         --\n",
      "|    |    └─Conv2d: 3-32                 [-1, 128, 28, 28]         147,456\n",
      "|    |    └─BatchNorm2d: 3-33            [-1, 128, 28, 28]         256\n",
      "|    |    └─ReLU: 3-34                   [-1, 128, 28, 28]         --\n",
      "|    |    └─Conv2d: 3-35                 [-1, 512, 28, 28]         65,536\n",
      "|    |    └─BatchNorm2d: 3-36            [-1, 512, 28, 28]         1,024\n",
      "|    |    └─Sequential: 3-37             [-1, 512, 28, 28]         132,096\n",
      "|    |    └─ReLU: 3-38                   [-1, 512, 28, 28]         --\n",
      "|    └─Bottleneck: 2-5                   [-1, 512, 28, 28]         --\n",
      "|    |    └─Conv2d: 3-39                 [-1, 128, 28, 28]         65,536\n",
      "|    |    └─BatchNorm2d: 3-40            [-1, 128, 28, 28]         256\n",
      "|    |    └─ReLU: 3-41                   [-1, 128, 28, 28]         --\n",
      "|    |    └─Conv2d: 3-42                 [-1, 128, 28, 28]         147,456\n",
      "|    |    └─BatchNorm2d: 3-43            [-1, 128, 28, 28]         256\n",
      "|    |    └─ReLU: 3-44                   [-1, 128, 28, 28]         --\n",
      "|    |    └─Conv2d: 3-45                 [-1, 512, 28, 28]         65,536\n",
      "|    |    └─BatchNorm2d: 3-46            [-1, 512, 28, 28]         1,024\n",
      "|    |    └─ReLU: 3-47                   [-1, 512, 28, 28]         --\n",
      "|    └─Bottleneck: 2-6                   [-1, 512, 28, 28]         --\n",
      "|    |    └─Conv2d: 3-48                 [-1, 128, 28, 28]         65,536\n",
      "|    |    └─BatchNorm2d: 3-49            [-1, 128, 28, 28]         256\n",
      "|    |    └─ReLU: 3-50                   [-1, 128, 28, 28]         --\n",
      "|    |    └─Conv2d: 3-51                 [-1, 128, 28, 28]         147,456\n",
      "|    |    └─BatchNorm2d: 3-52            [-1, 128, 28, 28]         256\n",
      "|    |    └─ReLU: 3-53                   [-1, 128, 28, 28]         --\n",
      "|    |    └─Conv2d: 3-54                 [-1, 512, 28, 28]         65,536\n",
      "|    |    └─BatchNorm2d: 3-55            [-1, 512, 28, 28]         1,024\n",
      "|    |    └─ReLU: 3-56                   [-1, 512, 28, 28]         --\n",
      "|    └─Bottleneck: 2-7                   [-1, 512, 28, 28]         --\n",
      "|    |    └─Conv2d: 3-57                 [-1, 128, 28, 28]         65,536\n",
      "|    |    └─BatchNorm2d: 3-58            [-1, 128, 28, 28]         256\n",
      "|    |    └─ReLU: 3-59                   [-1, 128, 28, 28]         --\n",
      "|    |    └─Conv2d: 3-60                 [-1, 128, 28, 28]         147,456\n",
      "|    |    └─BatchNorm2d: 3-61            [-1, 128, 28, 28]         256\n",
      "|    |    └─ReLU: 3-62                   [-1, 128, 28, 28]         --\n",
      "|    |    └─Conv2d: 3-63                 [-1, 512, 28, 28]         65,536\n",
      "|    |    └─BatchNorm2d: 3-64            [-1, 512, 28, 28]         1,024\n",
      "|    |    └─ReLU: 3-65                   [-1, 512, 28, 28]         --\n",
      "├─Sequential: 1-7                        [-1, 1024, 14, 14]        --\n",
      "|    └─Bottleneck: 2-8                   [-1, 1024, 14, 14]        --\n",
      "|    |    └─Conv2d: 3-66                 [-1, 256, 28, 28]         131,072\n",
      "|    |    └─BatchNorm2d: 3-67            [-1, 256, 28, 28]         512\n",
      "|    |    └─ReLU: 3-68                   [-1, 256, 28, 28]         --\n",
      "|    |    └─Conv2d: 3-69                 [-1, 256, 14, 14]         589,824\n",
      "|    |    └─BatchNorm2d: 3-70            [-1, 256, 14, 14]         512\n",
      "|    |    └─ReLU: 3-71                   [-1, 256, 14, 14]         --\n",
      "|    |    └─Conv2d: 3-72                 [-1, 1024, 14, 14]        262,144\n",
      "|    |    └─BatchNorm2d: 3-73            [-1, 1024, 14, 14]        2,048\n",
      "|    |    └─Sequential: 3-74             [-1, 1024, 14, 14]        526,336\n",
      "|    |    └─ReLU: 3-75                   [-1, 1024, 14, 14]        --\n",
      "|    └─Bottleneck: 2-9                   [-1, 1024, 14, 14]        --\n",
      "|    |    └─Conv2d: 3-76                 [-1, 256, 14, 14]         262,144\n",
      "|    |    └─BatchNorm2d: 3-77            [-1, 256, 14, 14]         512\n",
      "|    |    └─ReLU: 3-78                   [-1, 256, 14, 14]         --\n",
      "|    |    └─Conv2d: 3-79                 [-1, 256, 14, 14]         589,824\n",
      "|    |    └─BatchNorm2d: 3-80            [-1, 256, 14, 14]         512\n",
      "|    |    └─ReLU: 3-81                   [-1, 256, 14, 14]         --\n",
      "|    |    └─Conv2d: 3-82                 [-1, 1024, 14, 14]        262,144\n",
      "|    |    └─BatchNorm2d: 3-83            [-1, 1024, 14, 14]        2,048\n",
      "|    |    └─ReLU: 3-84                   [-1, 1024, 14, 14]        --\n",
      "|    └─Bottleneck: 2-10                  [-1, 1024, 14, 14]        --\n",
      "|    |    └─Conv2d: 3-85                 [-1, 256, 14, 14]         262,144\n",
      "|    |    └─BatchNorm2d: 3-86            [-1, 256, 14, 14]         512\n",
      "|    |    └─ReLU: 3-87                   [-1, 256, 14, 14]         --\n",
      "|    |    └─Conv2d: 3-88                 [-1, 256, 14, 14]         589,824\n",
      "|    |    └─BatchNorm2d: 3-89            [-1, 256, 14, 14]         512\n",
      "|    |    └─ReLU: 3-90                   [-1, 256, 14, 14]         --\n",
      "|    |    └─Conv2d: 3-91                 [-1, 1024, 14, 14]        262,144\n",
      "|    |    └─BatchNorm2d: 3-92            [-1, 1024, 14, 14]        2,048\n",
      "|    |    └─ReLU: 3-93                   [-1, 1024, 14, 14]        --\n",
      "|    └─Bottleneck: 2-11                  [-1, 1024, 14, 14]        --\n",
      "|    |    └─Conv2d: 3-94                 [-1, 256, 14, 14]         262,144\n",
      "|    |    └─BatchNorm2d: 3-95            [-1, 256, 14, 14]         512\n",
      "|    |    └─ReLU: 3-96                   [-1, 256, 14, 14]         --\n",
      "|    |    └─Conv2d: 3-97                 [-1, 256, 14, 14]         589,824\n",
      "|    |    └─BatchNorm2d: 3-98            [-1, 256, 14, 14]         512\n",
      "|    |    └─ReLU: 3-99                   [-1, 256, 14, 14]         --\n",
      "|    |    └─Conv2d: 3-100                [-1, 1024, 14, 14]        262,144\n",
      "|    |    └─BatchNorm2d: 3-101           [-1, 1024, 14, 14]        2,048\n",
      "|    |    └─ReLU: 3-102                  [-1, 1024, 14, 14]        --\n",
      "|    └─Bottleneck: 2-12                  [-1, 1024, 14, 14]        --\n",
      "|    |    └─Conv2d: 3-103                [-1, 256, 14, 14]         262,144\n",
      "|    |    └─BatchNorm2d: 3-104           [-1, 256, 14, 14]         512\n",
      "|    |    └─ReLU: 3-105                  [-1, 256, 14, 14]         --\n",
      "|    |    └─Conv2d: 3-106                [-1, 256, 14, 14]         589,824\n",
      "|    |    └─BatchNorm2d: 3-107           [-1, 256, 14, 14]         512\n",
      "|    |    └─ReLU: 3-108                  [-1, 256, 14, 14]         --\n",
      "|    |    └─Conv2d: 3-109                [-1, 1024, 14, 14]        262,144\n",
      "|    |    └─BatchNorm2d: 3-110           [-1, 1024, 14, 14]        2,048\n",
      "|    |    └─ReLU: 3-111                  [-1, 1024, 14, 14]        --\n",
      "|    └─Bottleneck: 2-13                  [-1, 1024, 14, 14]        --\n",
      "|    |    └─Conv2d: 3-112                [-1, 256, 14, 14]         262,144\n",
      "|    |    └─BatchNorm2d: 3-113           [-1, 256, 14, 14]         512\n",
      "|    |    └─ReLU: 3-114                  [-1, 256, 14, 14]         --\n",
      "|    |    └─Conv2d: 3-115                [-1, 256, 14, 14]         589,824\n",
      "|    |    └─BatchNorm2d: 3-116           [-1, 256, 14, 14]         512\n",
      "|    |    └─ReLU: 3-117                  [-1, 256, 14, 14]         --\n",
      "|    |    └─Conv2d: 3-118                [-1, 1024, 14, 14]        262,144\n",
      "|    |    └─BatchNorm2d: 3-119           [-1, 1024, 14, 14]        2,048\n",
      "|    |    └─ReLU: 3-120                  [-1, 1024, 14, 14]        --\n",
      "├─Sequential: 1-8                        [-1, 2048, 7, 7]          --\n",
      "|    └─Bottleneck: 2-14                  [-1, 2048, 7, 7]          --\n",
      "|    |    └─Conv2d: 3-121                [-1, 512, 14, 14]         524,288\n",
      "|    |    └─BatchNorm2d: 3-122           [-1, 512, 14, 14]         1,024\n",
      "|    |    └─ReLU: 3-123                  [-1, 512, 14, 14]         --\n",
      "|    |    └─Conv2d: 3-124                [-1, 512, 7, 7]           2,359,296\n",
      "|    |    └─BatchNorm2d: 3-125           [-1, 512, 7, 7]           1,024\n",
      "|    |    └─ReLU: 3-126                  [-1, 512, 7, 7]           --\n",
      "|    |    └─Conv2d: 3-127                [-1, 2048, 7, 7]          1,048,576\n",
      "|    |    └─BatchNorm2d: 3-128           [-1, 2048, 7, 7]          4,096\n",
      "|    |    └─Sequential: 3-129            [-1, 2048, 7, 7]          2,101,248\n",
      "|    |    └─ReLU: 3-130                  [-1, 2048, 7, 7]          --\n",
      "|    └─Bottleneck: 2-15                  [-1, 2048, 7, 7]          --\n",
      "|    |    └─Conv2d: 3-131                [-1, 512, 7, 7]           1,048,576\n",
      "|    |    └─BatchNorm2d: 3-132           [-1, 512, 7, 7]           1,024\n",
      "|    |    └─ReLU: 3-133                  [-1, 512, 7, 7]           --\n",
      "|    |    └─Conv2d: 3-134                [-1, 512, 7, 7]           2,359,296\n",
      "|    |    └─BatchNorm2d: 3-135           [-1, 512, 7, 7]           1,024\n",
      "|    |    └─ReLU: 3-136                  [-1, 512, 7, 7]           --\n",
      "|    |    └─Conv2d: 3-137                [-1, 2048, 7, 7]          1,048,576\n",
      "|    |    └─BatchNorm2d: 3-138           [-1, 2048, 7, 7]          4,096\n",
      "|    |    └─ReLU: 3-139                  [-1, 2048, 7, 7]          --\n",
      "|    └─Bottleneck: 2-16                  [-1, 2048, 7, 7]          --\n",
      "|    |    └─Conv2d: 3-140                [-1, 512, 7, 7]           1,048,576\n",
      "|    |    └─BatchNorm2d: 3-141           [-1, 512, 7, 7]           1,024\n",
      "|    |    └─ReLU: 3-142                  [-1, 512, 7, 7]           --\n",
      "|    |    └─Conv2d: 3-143                [-1, 512, 7, 7]           2,359,296\n",
      "|    |    └─BatchNorm2d: 3-144           [-1, 512, 7, 7]           1,024\n",
      "|    |    └─ReLU: 3-145                  [-1, 512, 7, 7]           --\n",
      "|    |    └─Conv2d: 3-146                [-1, 2048, 7, 7]          1,048,576\n",
      "|    |    └─BatchNorm2d: 3-147           [-1, 2048, 7, 7]          4,096\n",
      "|    |    └─ReLU: 3-148                  [-1, 2048, 7, 7]          --\n",
      "├─AdaptiveAvgPool2d: 1-9                 [-1, 2048, 1, 1]          --\n",
      "├─Linear: 1-10                           [-1, 594]                 1,217,106\n",
      "==========================================================================================\n",
      "Total params: 24,725,138\n",
      "Trainable params: 24,725,138\n",
      "Non-trainable params: 0\n",
      "Total mult-adds (G): 4.14\n",
      "==========================================================================================\n",
      "Input size (MB): 0.57\n",
      "Forward/backward pass size (MB): 169.59\n",
      "Params size (MB): 94.32\n",
      "Estimated Total Size (MB): 264.48\n",
      "==========================================================================================\n"
     ]
    },
    {
     "data": {
      "text/plain": [
       "==========================================================================================\n",
       "Layer (type:depth-idx)                   Output Shape              Param #\n",
       "==========================================================================================\n",
       "├─Conv2d: 1-1                            [-1, 64, 112, 112]        9,408\n",
       "├─BatchNorm2d: 1-2                       [-1, 64, 112, 112]        128\n",
       "├─ReLU: 1-3                              [-1, 64, 112, 112]        --\n",
       "├─MaxPool2d: 1-4                         [-1, 64, 56, 56]          --\n",
       "├─Sequential: 1-5                        [-1, 256, 56, 56]         --\n",
       "|    └─Bottleneck: 2-1                   [-1, 256, 56, 56]         --\n",
       "|    |    └─Conv2d: 3-1                  [-1, 64, 56, 56]          4,096\n",
       "|    |    └─BatchNorm2d: 3-2             [-1, 64, 56, 56]          128\n",
       "|    |    └─ReLU: 3-3                    [-1, 64, 56, 56]          --\n",
       "|    |    └─Conv2d: 3-4                  [-1, 64, 56, 56]          36,864\n",
       "|    |    └─BatchNorm2d: 3-5             [-1, 64, 56, 56]          128\n",
       "|    |    └─ReLU: 3-6                    [-1, 64, 56, 56]          --\n",
       "|    |    └─Conv2d: 3-7                  [-1, 256, 56, 56]         16,384\n",
       "|    |    └─BatchNorm2d: 3-8             [-1, 256, 56, 56]         512\n",
       "|    |    └─Sequential: 3-9              [-1, 256, 56, 56]         16,896\n",
       "|    |    └─ReLU: 3-10                   [-1, 256, 56, 56]         --\n",
       "|    └─Bottleneck: 2-2                   [-1, 256, 56, 56]         --\n",
       "|    |    └─Conv2d: 3-11                 [-1, 64, 56, 56]          16,384\n",
       "|    |    └─BatchNorm2d: 3-12            [-1, 64, 56, 56]          128\n",
       "|    |    └─ReLU: 3-13                   [-1, 64, 56, 56]          --\n",
       "|    |    └─Conv2d: 3-14                 [-1, 64, 56, 56]          36,864\n",
       "|    |    └─BatchNorm2d: 3-15            [-1, 64, 56, 56]          128\n",
       "|    |    └─ReLU: 3-16                   [-1, 64, 56, 56]          --\n",
       "|    |    └─Conv2d: 3-17                 [-1, 256, 56, 56]         16,384\n",
       "|    |    └─BatchNorm2d: 3-18            [-1, 256, 56, 56]         512\n",
       "|    |    └─ReLU: 3-19                   [-1, 256, 56, 56]         --\n",
       "|    └─Bottleneck: 2-3                   [-1, 256, 56, 56]         --\n",
       "|    |    └─Conv2d: 3-20                 [-1, 64, 56, 56]          16,384\n",
       "|    |    └─BatchNorm2d: 3-21            [-1, 64, 56, 56]          128\n",
       "|    |    └─ReLU: 3-22                   [-1, 64, 56, 56]          --\n",
       "|    |    └─Conv2d: 3-23                 [-1, 64, 56, 56]          36,864\n",
       "|    |    └─BatchNorm2d: 3-24            [-1, 64, 56, 56]          128\n",
       "|    |    └─ReLU: 3-25                   [-1, 64, 56, 56]          --\n",
       "|    |    └─Conv2d: 3-26                 [-1, 256, 56, 56]         16,384\n",
       "|    |    └─BatchNorm2d: 3-27            [-1, 256, 56, 56]         512\n",
       "|    |    └─ReLU: 3-28                   [-1, 256, 56, 56]         --\n",
       "├─Sequential: 1-6                        [-1, 512, 28, 28]         --\n",
       "|    └─Bottleneck: 2-4                   [-1, 512, 28, 28]         --\n",
       "|    |    └─Conv2d: 3-29                 [-1, 128, 56, 56]         32,768\n",
       "|    |    └─BatchNorm2d: 3-30            [-1, 128, 56, 56]         256\n",
       "|    |    └─ReLU: 3-31                   [-1, 128, 56, 56]         --\n",
       "|    |    └─Conv2d: 3-32                 [-1, 128, 28, 28]         147,456\n",
       "|    |    └─BatchNorm2d: 3-33            [-1, 128, 28, 28]         256\n",
       "|    |    └─ReLU: 3-34                   [-1, 128, 28, 28]         --\n",
       "|    |    └─Conv2d: 3-35                 [-1, 512, 28, 28]         65,536\n",
       "|    |    └─BatchNorm2d: 3-36            [-1, 512, 28, 28]         1,024\n",
       "|    |    └─Sequential: 3-37             [-1, 512, 28, 28]         132,096\n",
       "|    |    └─ReLU: 3-38                   [-1, 512, 28, 28]         --\n",
       "|    └─Bottleneck: 2-5                   [-1, 512, 28, 28]         --\n",
       "|    |    └─Conv2d: 3-39                 [-1, 128, 28, 28]         65,536\n",
       "|    |    └─BatchNorm2d: 3-40            [-1, 128, 28, 28]         256\n",
       "|    |    └─ReLU: 3-41                   [-1, 128, 28, 28]         --\n",
       "|    |    └─Conv2d: 3-42                 [-1, 128, 28, 28]         147,456\n",
       "|    |    └─BatchNorm2d: 3-43            [-1, 128, 28, 28]         256\n",
       "|    |    └─ReLU: 3-44                   [-1, 128, 28, 28]         --\n",
       "|    |    └─Conv2d: 3-45                 [-1, 512, 28, 28]         65,536\n",
       "|    |    └─BatchNorm2d: 3-46            [-1, 512, 28, 28]         1,024\n",
       "|    |    └─ReLU: 3-47                   [-1, 512, 28, 28]         --\n",
       "|    └─Bottleneck: 2-6                   [-1, 512, 28, 28]         --\n",
       "|    |    └─Conv2d: 3-48                 [-1, 128, 28, 28]         65,536\n",
       "|    |    └─BatchNorm2d: 3-49            [-1, 128, 28, 28]         256\n",
       "|    |    └─ReLU: 3-50                   [-1, 128, 28, 28]         --\n",
       "|    |    └─Conv2d: 3-51                 [-1, 128, 28, 28]         147,456\n",
       "|    |    └─BatchNorm2d: 3-52            [-1, 128, 28, 28]         256\n",
       "|    |    └─ReLU: 3-53                   [-1, 128, 28, 28]         --\n",
       "|    |    └─Conv2d: 3-54                 [-1, 512, 28, 28]         65,536\n",
       "|    |    └─BatchNorm2d: 3-55            [-1, 512, 28, 28]         1,024\n",
       "|    |    └─ReLU: 3-56                   [-1, 512, 28, 28]         --\n",
       "|    └─Bottleneck: 2-7                   [-1, 512, 28, 28]         --\n",
       "|    |    └─Conv2d: 3-57                 [-1, 128, 28, 28]         65,536\n",
       "|    |    └─BatchNorm2d: 3-58            [-1, 128, 28, 28]         256\n",
       "|    |    └─ReLU: 3-59                   [-1, 128, 28, 28]         --\n",
       "|    |    └─Conv2d: 3-60                 [-1, 128, 28, 28]         147,456\n",
       "|    |    └─BatchNorm2d: 3-61            [-1, 128, 28, 28]         256\n",
       "|    |    └─ReLU: 3-62                   [-1, 128, 28, 28]         --\n",
       "|    |    └─Conv2d: 3-63                 [-1, 512, 28, 28]         65,536\n",
       "|    |    └─BatchNorm2d: 3-64            [-1, 512, 28, 28]         1,024\n",
       "|    |    └─ReLU: 3-65                   [-1, 512, 28, 28]         --\n",
       "├─Sequential: 1-7                        [-1, 1024, 14, 14]        --\n",
       "|    └─Bottleneck: 2-8                   [-1, 1024, 14, 14]        --\n",
       "|    |    └─Conv2d: 3-66                 [-1, 256, 28, 28]         131,072\n",
       "|    |    └─BatchNorm2d: 3-67            [-1, 256, 28, 28]         512\n",
       "|    |    └─ReLU: 3-68                   [-1, 256, 28, 28]         --\n",
       "|    |    └─Conv2d: 3-69                 [-1, 256, 14, 14]         589,824\n",
       "|    |    └─BatchNorm2d: 3-70            [-1, 256, 14, 14]         512\n",
       "|    |    └─ReLU: 3-71                   [-1, 256, 14, 14]         --\n",
       "|    |    └─Conv2d: 3-72                 [-1, 1024, 14, 14]        262,144\n",
       "|    |    └─BatchNorm2d: 3-73            [-1, 1024, 14, 14]        2,048\n",
       "|    |    └─Sequential: 3-74             [-1, 1024, 14, 14]        526,336\n",
       "|    |    └─ReLU: 3-75                   [-1, 1024, 14, 14]        --\n",
       "|    └─Bottleneck: 2-9                   [-1, 1024, 14, 14]        --\n",
       "|    |    └─Conv2d: 3-76                 [-1, 256, 14, 14]         262,144\n",
       "|    |    └─BatchNorm2d: 3-77            [-1, 256, 14, 14]         512\n",
       "|    |    └─ReLU: 3-78                   [-1, 256, 14, 14]         --\n",
       "|    |    └─Conv2d: 3-79                 [-1, 256, 14, 14]         589,824\n",
       "|    |    └─BatchNorm2d: 3-80            [-1, 256, 14, 14]         512\n",
       "|    |    └─ReLU: 3-81                   [-1, 256, 14, 14]         --\n",
       "|    |    └─Conv2d: 3-82                 [-1, 1024, 14, 14]        262,144\n",
       "|    |    └─BatchNorm2d: 3-83            [-1, 1024, 14, 14]        2,048\n",
       "|    |    └─ReLU: 3-84                   [-1, 1024, 14, 14]        --\n",
       "|    └─Bottleneck: 2-10                  [-1, 1024, 14, 14]        --\n",
       "|    |    └─Conv2d: 3-85                 [-1, 256, 14, 14]         262,144\n",
       "|    |    └─BatchNorm2d: 3-86            [-1, 256, 14, 14]         512\n",
       "|    |    └─ReLU: 3-87                   [-1, 256, 14, 14]         --\n",
       "|    |    └─Conv2d: 3-88                 [-1, 256, 14, 14]         589,824\n",
       "|    |    └─BatchNorm2d: 3-89            [-1, 256, 14, 14]         512\n",
       "|    |    └─ReLU: 3-90                   [-1, 256, 14, 14]         --\n",
       "|    |    └─Conv2d: 3-91                 [-1, 1024, 14, 14]        262,144\n",
       "|    |    └─BatchNorm2d: 3-92            [-1, 1024, 14, 14]        2,048\n",
       "|    |    └─ReLU: 3-93                   [-1, 1024, 14, 14]        --\n",
       "|    └─Bottleneck: 2-11                  [-1, 1024, 14, 14]        --\n",
       "|    |    └─Conv2d: 3-94                 [-1, 256, 14, 14]         262,144\n",
       "|    |    └─BatchNorm2d: 3-95            [-1, 256, 14, 14]         512\n",
       "|    |    └─ReLU: 3-96                   [-1, 256, 14, 14]         --\n",
       "|    |    └─Conv2d: 3-97                 [-1, 256, 14, 14]         589,824\n",
       "|    |    └─BatchNorm2d: 3-98            [-1, 256, 14, 14]         512\n",
       "|    |    └─ReLU: 3-99                   [-1, 256, 14, 14]         --\n",
       "|    |    └─Conv2d: 3-100                [-1, 1024, 14, 14]        262,144\n",
       "|    |    └─BatchNorm2d: 3-101           [-1, 1024, 14, 14]        2,048\n",
       "|    |    └─ReLU: 3-102                  [-1, 1024, 14, 14]        --\n",
       "|    └─Bottleneck: 2-12                  [-1, 1024, 14, 14]        --\n",
       "|    |    └─Conv2d: 3-103                [-1, 256, 14, 14]         262,144\n",
       "|    |    └─BatchNorm2d: 3-104           [-1, 256, 14, 14]         512\n",
       "|    |    └─ReLU: 3-105                  [-1, 256, 14, 14]         --\n",
       "|    |    └─Conv2d: 3-106                [-1, 256, 14, 14]         589,824\n",
       "|    |    └─BatchNorm2d: 3-107           [-1, 256, 14, 14]         512\n",
       "|    |    └─ReLU: 3-108                  [-1, 256, 14, 14]         --\n",
       "|    |    └─Conv2d: 3-109                [-1, 1024, 14, 14]        262,144\n",
       "|    |    └─BatchNorm2d: 3-110           [-1, 1024, 14, 14]        2,048\n",
       "|    |    └─ReLU: 3-111                  [-1, 1024, 14, 14]        --\n",
       "|    └─Bottleneck: 2-13                  [-1, 1024, 14, 14]        --\n",
       "|    |    └─Conv2d: 3-112                [-1, 256, 14, 14]         262,144\n",
       "|    |    └─BatchNorm2d: 3-113           [-1, 256, 14, 14]         512\n",
       "|    |    └─ReLU: 3-114                  [-1, 256, 14, 14]         --\n",
       "|    |    └─Conv2d: 3-115                [-1, 256, 14, 14]         589,824\n",
       "|    |    └─BatchNorm2d: 3-116           [-1, 256, 14, 14]         512\n",
       "|    |    └─ReLU: 3-117                  [-1, 256, 14, 14]         --\n",
       "|    |    └─Conv2d: 3-118                [-1, 1024, 14, 14]        262,144\n",
       "|    |    └─BatchNorm2d: 3-119           [-1, 1024, 14, 14]        2,048\n",
       "|    |    └─ReLU: 3-120                  [-1, 1024, 14, 14]        --\n",
       "├─Sequential: 1-8                        [-1, 2048, 7, 7]          --\n",
       "|    └─Bottleneck: 2-14                  [-1, 2048, 7, 7]          --\n",
       "|    |    └─Conv2d: 3-121                [-1, 512, 14, 14]         524,288\n",
       "|    |    └─BatchNorm2d: 3-122           [-1, 512, 14, 14]         1,024\n",
       "|    |    └─ReLU: 3-123                  [-1, 512, 14, 14]         --\n",
       "|    |    └─Conv2d: 3-124                [-1, 512, 7, 7]           2,359,296\n",
       "|    |    └─BatchNorm2d: 3-125           [-1, 512, 7, 7]           1,024\n",
       "|    |    └─ReLU: 3-126                  [-1, 512, 7, 7]           --\n",
       "|    |    └─Conv2d: 3-127                [-1, 2048, 7, 7]          1,048,576\n",
       "|    |    └─BatchNorm2d: 3-128           [-1, 2048, 7, 7]          4,096\n",
       "|    |    └─Sequential: 3-129            [-1, 2048, 7, 7]          2,101,248\n",
       "|    |    └─ReLU: 3-130                  [-1, 2048, 7, 7]          --\n",
       "|    └─Bottleneck: 2-15                  [-1, 2048, 7, 7]          --\n",
       "|    |    └─Conv2d: 3-131                [-1, 512, 7, 7]           1,048,576\n",
       "|    |    └─BatchNorm2d: 3-132           [-1, 512, 7, 7]           1,024\n",
       "|    |    └─ReLU: 3-133                  [-1, 512, 7, 7]           --\n",
       "|    |    └─Conv2d: 3-134                [-1, 512, 7, 7]           2,359,296\n",
       "|    |    └─BatchNorm2d: 3-135           [-1, 512, 7, 7]           1,024\n",
       "|    |    └─ReLU: 3-136                  [-1, 512, 7, 7]           --\n",
       "|    |    └─Conv2d: 3-137                [-1, 2048, 7, 7]          1,048,576\n",
       "|    |    └─BatchNorm2d: 3-138           [-1, 2048, 7, 7]          4,096\n",
       "|    |    └─ReLU: 3-139                  [-1, 2048, 7, 7]          --\n",
       "|    └─Bottleneck: 2-16                  [-1, 2048, 7, 7]          --\n",
       "|    |    └─Conv2d: 3-140                [-1, 512, 7, 7]           1,048,576\n",
       "|    |    └─BatchNorm2d: 3-141           [-1, 512, 7, 7]           1,024\n",
       "|    |    └─ReLU: 3-142                  [-1, 512, 7, 7]           --\n",
       "|    |    └─Conv2d: 3-143                [-1, 512, 7, 7]           2,359,296\n",
       "|    |    └─BatchNorm2d: 3-144           [-1, 512, 7, 7]           1,024\n",
       "|    |    └─ReLU: 3-145                  [-1, 512, 7, 7]           --\n",
       "|    |    └─Conv2d: 3-146                [-1, 2048, 7, 7]          1,048,576\n",
       "|    |    └─BatchNorm2d: 3-147           [-1, 2048, 7, 7]          4,096\n",
       "|    |    └─ReLU: 3-148                  [-1, 2048, 7, 7]          --\n",
       "├─AdaptiveAvgPool2d: 1-9                 [-1, 2048, 1, 1]          --\n",
       "├─Linear: 1-10                           [-1, 594]                 1,217,106\n",
       "==========================================================================================\n",
       "Total params: 24,725,138\n",
       "Trainable params: 24,725,138\n",
       "Non-trainable params: 0\n",
       "Total mult-adds (G): 4.14\n",
       "==========================================================================================\n",
       "Input size (MB): 0.57\n",
       "Forward/backward pass size (MB): 169.59\n",
       "Params size (MB): 94.32\n",
       "Estimated Total Size (MB): 264.48\n",
       "=========================================================================================="
      ]
     },
     "execution_count": 83,
     "metadata": {},
     "output_type": "execute_result"
    }
   ],
   "execution_count": 83
  }
 ],
 "metadata": {
  "kernelspec": {
   "display_name": "Python 3",
   "language": "python",
   "name": "python3"
  },
  "language_info": {
   "codemirror_mode": {
    "name": "ipython",
    "version": 2
   },
   "file_extension": ".py",
   "mimetype": "text/x-python",
   "name": "python",
   "nbconvert_exporter": "python",
   "pygments_lexer": "ipython2",
   "version": "2.7.6"
  }
 },
 "nbformat": 4,
 "nbformat_minor": 5
}
