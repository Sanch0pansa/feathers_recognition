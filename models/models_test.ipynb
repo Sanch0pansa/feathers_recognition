{
 "cells": [
  {
   "cell_type": "code",
   "id": "initial_id",
   "metadata": {
    "collapsed": true,
    "ExecuteTime": {
     "end_time": "2024-04-24T08:32:25.950652Z",
     "start_time": "2024-04-24T08:32:25.947304Z"
    }
   },
   "source": [
    "import torch\n",
    "from torch import nn\n",
    "import torchvision.models as models"
   ],
   "execution_count": 48,
   "outputs": []
  },
  {
   "metadata": {
    "ExecuteTime": {
     "end_time": "2024-04-24T08:32:25.954895Z",
     "start_time": "2024-04-24T08:32:25.952670Z"
    }
   },
   "cell_type": "code",
   "source": [
    "def get_classifier(in_features: int):\n",
    "    return nn.Linear(in_features=in_features, out_features=594)"
   ],
   "id": "fbc82c4d7fb3bd0d",
   "execution_count": 49,
   "outputs": []
  },
  {
   "metadata": {
    "ExecuteTime": {
     "end_time": "2024-04-24T08:32:25.958329Z",
     "start_time": "2024-04-24T08:32:25.955824Z"
    }
   },
   "cell_type": "code",
   "source": [
    "def handle_densenet_model(model: nn.Module, weights: str, save_to: str | None = None):\n",
    "    model.classifier = get_classifier(in_features=model.classifier.in_features)\n",
    "    \n",
    "    if weights:\n",
    "        model.load_state_dict(torch.load(weights))\n",
    "    \n",
    "    if save_to is not None:\n",
    "        torch.save(model.state_dict(), save_to)\n",
    "    \n",
    "    return model"
   ],
   "id": "86f1e937d863b216",
   "execution_count": 50,
   "outputs": []
  },
  {
   "metadata": {
    "ExecuteTime": {
     "end_time": "2024-04-24T13:29:59.956124Z",
     "start_time": "2024-04-24T13:29:59.950130Z"
    }
   },
   "cell_type": "code",
   "source": [
    "def handle_resnet_model(model: nn.Module, weights: str, save_to: str | None = None):\n",
    "    model.fc = get_classifier(in_features=model.fc.in_features)\n",
    "    \n",
    "    if weights:\n",
    "        model.load_state_dict(torch.load(weights))\n",
    "    \n",
    "    if save_to is not None:\n",
    "        torch.save(model.state_dict(), save_to)\n",
    "    \n",
    "    return model"
   ],
   "id": "de342e7a68b7583f",
   "execution_count": 80,
   "outputs": []
  },
  {
   "metadata": {
    "ExecuteTime": {
     "end_time": "2024-04-24T08:32:25.961010Z",
     "start_time": "2024-04-24T08:32:25.959250Z"
    }
   },
   "cell_type": "code",
   "source": [
    "def get_dense121(weights: str | None = None, save_to: str | None = None):\n",
    "    model = models.densenet121(weights='DEFAULT')\n",
    "    return handle_densenet_model(model, weights, save_to)\n",
    "    "
   ],
   "id": "b9bcb93a6154d6f0",
   "execution_count": 51,
   "outputs": []
  },
  {
   "metadata": {
    "ExecuteTime": {
     "end_time": "2024-04-24T08:32:25.964125Z",
     "start_time": "2024-04-24T08:32:25.961595Z"
    }
   },
   "cell_type": "code",
   "source": [
    "def get_dense161(weights: str | None = None, save_to: str | None = None):\n",
    "    model = models.densenet161(weights='DEFAULT')\n",
    "    return handle_densenet_model(model, weights, save_to)"
   ],
   "id": "5e6013edd07c4e4",
   "execution_count": 52,
   "outputs": []
  },
  {
   "metadata": {
    "ExecuteTime": {
     "end_time": "2024-04-24T08:32:25.967069Z",
     "start_time": "2024-04-24T08:32:25.965135Z"
    }
   },
   "cell_type": "code",
   "source": [
    "def get_dense169(weights: str | None = None, save_to: str | None = None):\n",
    "    model = models.densenet169(weights='DEFAULT')\n",
    "    return handle_densenet_model(model, weights, save_to)"
   ],
   "id": "6fd5052a522d14b9",
   "execution_count": 53,
   "outputs": []
  },
  {
   "metadata": {
    "ExecuteTime": {
     "end_time": "2024-04-24T08:32:25.970710Z",
     "start_time": "2024-04-24T08:32:25.969031Z"
    }
   },
   "cell_type": "code",
   "source": [
    "def get_dense201(weights: str | None = None, save_to: str | None = None):\n",
    "    model = models.densenet201(weights='DEFAULT')\n",
    "    return handle_densenet_model(model, weights, save_to)"
   ],
   "id": "719ee2828cca25b1",
   "execution_count": 54,
   "outputs": []
  },
  {
   "metadata": {
    "ExecuteTime": {
     "end_time": "2024-04-24T13:30:03.348795Z",
     "start_time": "2024-04-24T13:30:03.345090Z"
    }
   },
   "cell_type": "code",
   "source": [
    "def get_resnet50(weights: str | None = None, save_to: str | None = None):\n",
    "    model = models.resnet50(weights='DEFAULT')\n",
    "    return handle_resnet_model(model, weights, save_to)"
   ],
   "id": "828b48824276a464",
   "execution_count": 81,
   "outputs": []
  },
  {
   "metadata": {
    "ExecuteTime": {
     "end_time": "2024-04-24T08:32:25.972939Z",
     "start_time": "2024-04-24T08:32:25.971429Z"
    }
   },
   "cell_type": "code",
   "source": [
    "img = torch.zeros(1, 3, 224, 224)"
   ],
   "id": "d5459dc6504a8165",
   "execution_count": 55,
   "outputs": []
  },
  {
   "metadata": {
    "ExecuteTime": {
     "end_time": "2024-04-24T08:32:26.171227Z",
     "start_time": "2024-04-24T08:32:25.974119Z"
    }
   },
   "cell_type": "code",
   "source": [
    "dense121 = get_dense121(save_to=\"./weights/densenet121.pt\")"
   ],
   "id": "a4f4de59312a8867",
   "execution_count": 56,
   "outputs": []
  },
  {
   "metadata": {
    "ExecuteTime": {
     "end_time": "2024-04-24T08:40:24.478827Z",
     "start_time": "2024-04-24T08:40:23.795871Z"
    }
   },
   "cell_type": "code",
   "source": [
    "dense161 = get_dense161(save_to=\"./weights/densenet161.pt\")"
   ],
   "id": "8e906ccea9c54666",
   "execution_count": 68,
   "outputs": []
  },
  {
   "metadata": {
    "ExecuteTime": {
     "end_time": "2024-04-24T08:36:51.804310Z",
     "start_time": "2024-04-24T08:36:51.417814Z"
    }
   },
   "cell_type": "code",
   "source": [
    "dense169 = get_dense169(save_to=\"./weights/densenet169.pt\")"
   ],
   "id": "b7919e2d92f60d39",
   "execution_count": 60,
   "outputs": []
  },
  {
   "metadata": {
    "ExecuteTime": {
     "end_time": "2024-04-24T08:39:31.902591Z",
     "start_time": "2024-04-24T08:39:31.400412Z"
    }
   },
   "cell_type": "code",
   "source": [
    "dense201 = get_dense201(save_to=\"./weights/densenet201.pt\")"
   ],
   "id": "58255610e7283e38",
   "execution_count": 62,
   "outputs": []
  },
  {
   "metadata": {
    "ExecuteTime": {
     "end_time": "2024-04-24T08:39:40.854794Z",
     "start_time": "2024-04-24T08:39:40.687352Z"
    }
   },
   "cell_type": "code",
   "source": [
    "res = dense121(img)\n",
    "\n",
    "print(res.shape)"
   ],
   "id": "514957f8d23baf88",
   "execution_count": 63,
   "outputs": []
  },
  {
   "metadata": {
    "ExecuteTime": {
     "end_time": "2024-04-24T08:39:44.518737Z",
     "start_time": "2024-04-24T08:39:44.296369Z"
    }
   },
   "cell_type": "code",
   "source": [
    "res = dense161(img)\n",
    "\n",
    "print(res.shape)"
   ],
   "id": "e8ee4cbe16e1bf55",
   "execution_count": 64,
   "outputs": []
  },
  {
   "metadata": {
    "ExecuteTime": {
     "end_time": "2024-04-24T08:39:45.899363Z",
     "start_time": "2024-04-24T08:39:45.755710Z"
    }
   },
   "cell_type": "code",
   "source": [
    "res = dense169(img)\n",
    "\n",
    "print(res.shape)"
   ],
   "id": "13d65a0da3bd4843",
   "execution_count": 65,
   "outputs": []
  },
  {
   "metadata": {
    "ExecuteTime": {
     "end_time": "2024-04-24T08:39:48.920941Z",
     "start_time": "2024-04-24T08:39:48.753093Z"
    }
   },
   "cell_type": "code",
   "source": [
    "res = dense201(img)\n",
    "\n",
    "print(res.shape)"
   ],
   "id": "347226f0e58fd797",
   "execution_count": 66,
   "outputs": []
  },
  {
   "metadata": {
    "ExecuteTime": {
     "end_time": "2024-04-24T08:44:09.358152Z",
     "start_time": "2024-04-24T08:44:09.355275Z"
    }
   },
   "cell_type": "code",
   "source": [
    "from torchsummary import summary"
   ],
   "id": "aa46b31c4496ab9b",
   "execution_count": 72,
   "outputs": []
  },
  {
   "metadata": {
    "ExecuteTime": {
     "end_time": "2024-04-24T08:47:08.642070Z",
     "start_time": "2024-04-24T08:47:08.400221Z"
    }
   },
   "cell_type": "code",
   "source": [
    "summary(dense161, (3, 224, 224))"
   ],
   "id": "85de6979dcff5516",
   "execution_count": 75,
   "outputs": []
  },
  {
   "metadata": {
    "ExecuteTime": {
     "end_time": "2024-04-24T13:30:07.696435Z",
     "start_time": "2024-04-24T13:30:07.047541Z"
    }
   },
   "cell_type": "code",
   "source": [
    "resnet50 = get_resnet50(save_to=\"./weights/resnet50.pt\")"
   ],
   "id": "9e906088fa8326f1",
   "execution_count": 82,
   "outputs": []
  },
  {
   "metadata": {
    "ExecuteTime": {
     "end_time": "2024-04-24T13:30:49.258577Z",
     "start_time": "2024-04-24T13:30:49.100477Z"
    }
   },
   "cell_type": "code",
   "source": [
    "summary(resnet50, (3, 224, 224))"
   ],
   "id": "6525ed729eeb5698",
   "execution_count": 83,
   "outputs": []
  }
 ],
 "metadata": {
  "kernelspec": {
   "display_name": "Python 3",
   "language": "python",
   "name": "python3"
  },
  "language_info": {
   "codemirror_mode": {
    "name": "ipython",
    "version": 2
   },
   "file_extension": ".py",
   "mimetype": "text/x-python",
   "name": "python",
   "nbconvert_exporter": "python",
   "pygments_lexer": "ipython2",
   "version": "2.7.6"
  }
 },
 "nbformat": 4,
 "nbformat_minor": 5
}
