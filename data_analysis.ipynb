{
 "cells": [
  {
   "cell_type": "markdown",
   "metadata": {},
   "source": [
    "# Считаем данные об изображениях"
   ]
  },
  {
   "cell_type": "code",
   "execution_count": 5,
   "metadata": {},
   "source": [
    "import numpy as np\n",
    "import matplotlib.pyplot as plt\n",
    "import pandas as pd"
   ],
   "outputs": []
  },
  {
   "cell_type": "code",
   "execution_count": 112,
   "metadata": {},
   "source": [
    "data = pd.read_csv(\"dataset/data/feathers_data.csv\")\n",
    "\n",
    "data"
   ],
   "outputs": []
  },
  {
   "cell_type": "markdown",
   "metadata": {},
   "source": [
    "# Построим распределение видов по количеству изображений"
   ]
  },
  {
   "cell_type": "code",
   "execution_count": 113,
   "metadata": {},
   "source": [
    "counts = data['species'].value_counts()\n",
    "\n",
    "result_df = pd.DataFrame({'species': counts.index, 'number_of_images': counts.values})\n",
    "\n",
    "result_df"
   ],
   "outputs": []
  },
  {
   "cell_type": "code",
   "execution_count": 115,
   "metadata": {},
   "source": [
    "plt.figure(figsize=(16, 7))\n",
    "plt.hist(result_df['number_of_images'], bins=620)\n",
    "plt.xlabel(\"Количество изображений\")\n",
    "plt.ylabel(\"Количество видов\")\n",
    "plt.title('Распределение видов по количеству изображений')\n",
    "plt.savefig(\"p4.png\")\n",
    "plt.show()"
   ],
   "outputs": []
  },
  {
   "cell_type": "code",
   "execution_count": 23,
   "metadata": {},
   "source": [
    "plt.figure(figsize=(16, 7))\n",
    "plt.hist(result_df['number_of_images'], bins=100)\n",
    "plt.xlabel(\"Количество изображений\")\n",
    "plt.ylabel(\"Количество видов\")\n",
    "plt.show()"
   ],
   "outputs": []
  },
  {
   "cell_type": "code",
   "execution_count": 18,
   "metadata": {},
   "source": [
    "print(result_df['number_of_images'].mean())\n",
    "print(result_df['number_of_images'].median())"
   ],
   "outputs": []
  },
  {
   "cell_type": "code",
   "execution_count": 41,
   "metadata": {},
   "source": [
    "d = result_df.head(50)\n",
    "plt.figure(figsize=(16, 20))\n",
    "plt.bar(d['species'], d['number_of_images'])\n",
    "plt.xlabel(\"Количество изображений\")\n",
    "plt.ylabel(\"Количество видов\")\n",
    "plt.show()"
   ],
   "outputs": []
  },
  {
   "cell_type": "code",
   "execution_count": 44,
   "metadata": {},
   "source": [
    "data_norm = pd.read_csv(\"dataset/data/feathers_data_normalized.csv\")"
   ],
   "outputs": []
  },
  {
   "cell_type": "code",
   "execution_count": 45,
   "metadata": {},
   "source": [
    "counts = data_norm['species'].value_counts()\n",
    "\n",
    "result_df = pd.DataFrame({'species': counts.index, 'number_of_images': counts.values})\n",
    "\n",
    "result_df"
   ],
   "outputs": []
  },
  {
   "cell_type": "code",
   "execution_count": 47,
   "metadata": {},
   "source": [
    "plt.figure(figsize=(16, 7))\n",
    "plt.hist(result_df['number_of_images'], bins=295)\n",
    "plt.xlabel(\"Количество изображений\")\n",
    "plt.ylabel(\"Количество видов\")\n",
    "plt.show()"
   ],
   "outputs": []
  },
  {
   "cell_type": "code",
   "execution_count": 49,
   "metadata": {},
   "source": [
    "data_top_100 = pd.read_csv(\"dataset/data/train_top_100_species.csv\")\n",
    "counts = data_top_100['species'].value_counts()\n",
    "result_df = pd.DataFrame({'species': counts.index, 'number_of_images': counts.values})\n",
    "result_df"
   ],
   "outputs": []
  },
  {
   "cell_type": "code",
   "execution_count": 53,
   "metadata": {},
   "source": [
    "plt.figure(figsize=(16, 7))\n",
    "plt.hist(result_df['number_of_images'], bins=400)\n",
    "plt.xlabel(\"Количество изображений\")\n",
    "plt.ylabel(\"Количество видов\")\n",
    "plt.show()"
   ],
   "outputs": []
  },
  {
   "cell_type": "markdown",
   "metadata": {},
   "source": [
    "# Построим распределение семейств по количеству изображений"
   ]
  },
  {
   "cell_type": "code",
   "execution_count": 117,
   "metadata": {},
   "source": [
    "data = pd.read_csv(\"dataset/data/feathers_data.csv\")\n",
    "\n",
    "counts = data['order'].value_counts()\n",
    "\n",
    "result_df = pd.DataFrame({'order': counts.index, 'number_of_images': counts.values})\n",
    "\n",
    "plt.figure(figsize=(16, 7))\n",
    "plt.hist(result_df['number_of_images'], bins=100)\n",
    "plt.xlabel(\"Количество изображений\")\n",
    "plt.ylabel(\"Количество видов\")\n",
    "plt.show()"
   ],
   "outputs": []
  },
  {
   "cell_type": "code",
   "execution_count": 118,
   "metadata": {},
   "source": [
    "result_df"
   ],
   "outputs": []
  },
  {
   "cell_type": "code",
   "execution_count": 119,
   "metadata": {},
   "source": [
    "plt.figure(figsize=(16, 7))\n",
    "plt.barh(result_df['order'], result_df['number_of_images'])\n",
    "plt.xlabel(\"Количество изображений\")\n",
    "plt.title(\"Количество изображений в виде\")\n",
    "plt.savefig(\"p3.png\")\n",
    "plt.show()"
   ],
   "outputs": []
  },
  {
   "cell_type": "markdown",
   "metadata": {},
   "source": [
    "# Построим распределние изображений по размерам"
   ]
  },
  {
   "cell_type": "code",
   "execution_count": 27,
   "metadata": {},
   "source": [
    "import os\n",
    "import seaborn as sns\n",
    "from PIL import Image\n",
    "\n",
    "data = pd.read_csv(\"dataset/data/feathers_data.csv\")\n",
    "\n",
    "sizes = pd.DataFrame(columns=[\"width\", \"height\"])\n",
    "\n",
    "for index, row in data.iterrows():\n",
    "    filename = row['filename'].split(\"_\")\n",
    "    path_to = os.path.join(\"dataset\", \"images\", filename[0], \"_\".join(filename[1:-1]), row['filename'])\n",
    "    \n",
    "    width, height = Image.open(path_to).size\n",
    "    sizes.loc[len(sizes)] = {\"width\": width, \"height\": height}\n"
   ],
   "outputs": []
  },
  {
   "cell_type": "code",
   "execution_count": 86,
   "metadata": {},
   "source": [
    "sizes.values"
   ],
   "outputs": []
  },
  {
   "cell_type": "code",
   "execution_count": 29,
   "metadata": {},
   "source": [
    "# plt.hist2d(sizes['width'], sizes['height'], bins=(100, 100), cmap=\"YlGnBu\")\n",
    "plt.figure(figsize=(16, 8))\n",
    "\n",
    "plt.subplot(121)\n",
    "plt.scatter(sizes['width'], sizes['height'], s=2)\n",
    "plt.xlabel(\"Ширина\")\n",
    "plt.ylabel(\"Высота\")\n",
    "plt.title(\"График распределения записей по ширине и высоте\")\n",
    "\n",
    "plt.subplot(122)\n",
    "plt.hist2d(sizes['width'], sizes['height'], bins=(200, 200), cmap=\"YlGnBu\")\n",
    "plt.xlabel(\"Ширина\")\n",
    "plt.ylabel(\"Высота\")\n",
    "plt.title(\"2D гистограмма количества записей по ширине и высоте\")\n",
    "plt.colorbar(label=\"Количество записей\")\n",
    "\n",
    "plt.savefig(\"p1.png\")\n",
    "plt.show()"
   ],
   "outputs": []
  },
  {
   "cell_type": "code",
   "execution_count": 30,
   "metadata": {},
   "source": [
    "plt.figure(figsize=(16, 8))\n",
    "\n",
    "plt.subplot(121)\n",
    "plt.hist(sizes['width'], bins=100)\n",
    "plt.xlabel(\"Ширина\")\n",
    "plt.ylabel(\"Кол-во записей\")\n",
    "plt.title(\"Распределение по ширине\")\n",
    "\n",
    "plt.subplot(122)\n",
    "plt.hist(sizes['height'], bins=100)\n",
    "plt.xlabel(\"Высота\")\n",
    "plt.ylabel(\"Кол-во записей\")\n",
    "plt.title(\"Распределение по высоте\")\n",
    "plt.savefig(\"p2.png\")\n",
    "plt.show()"
   ],
   "outputs": []
  },
  {
   "cell_type": "code",
   "execution_count": 22,
   "metadata": {},
   "source": [
    "import os\n",
    "import seaborn as sns\n",
    "from PIL import Image\n",
    "\n",
    "data = pd.read_csv(\"dataset/data/feathers_data_normalized.csv\")\n",
    "\n",
    "sizes = pd.DataFrame(columns=[\"width\", \"height\"])\n",
    "\n",
    "for index, row in data.iterrows():\n",
    "    filename = row['filename'].split(\"_\")\n",
    "    path_to = os.path.join(\"dataset\", \"images\", filename[0], \"_\".join(filename[1:-1]), row['filename'])\n",
    "    \n",
    "    width, height = Image.open(path_to).size\n",
    "    sizes.loc[len(sizes)] = {\"width\": width, \"height\": height}\n"
   ],
   "outputs": []
  },
  {
   "cell_type": "code",
   "execution_count": 25,
   "metadata": {},
   "source": [
    "# plt.hist2d(sizes['width'], sizes['height'], bins=(100, 100), cmap=\"YlGnBu\")\n",
    "plt.figure(figsize=(16, 8))\n",
    "\n",
    "plt.subplot(121)\n",
    "plt.scatter(sizes['width'], sizes['height'], s=2)\n",
    "plt.xlabel(\"Ширина\")\n",
    "plt.ylabel(\"Высота\")\n",
    "plt.title(\"График распределения записей по ширине и высоте\")\n",
    "\n",
    "plt.subplot(122)\n",
    "plt.hist2d(sizes['width'], sizes['height'], bins=(200, 200), cmap=\"YlGnBu\")\n",
    "plt.xlabel(\"Ширина\")\n",
    "plt.ylabel(\"Высота\")\n",
    "plt.title(\"2D гистограмма количества записей по ширине и высоте\")\n",
    "plt.colorbar(label=\"Количество записей\")\n",
    "\n",
    "plt.savefig(\"p5.png\")\n",
    "plt.show()"
   ],
   "outputs": []
  },
  {
   "cell_type": "code",
   "execution_count": 26,
   "metadata": {},
   "source": [
    "plt.figure(figsize=(16, 8))\n",
    "\n",
    "plt.subplot(121)\n",
    "plt.hist(sizes['width'], bins=100)\n",
    "plt.xlabel(\"Ширина\")\n",
    "plt.ylabel(\"Кол-во записей\")\n",
    "plt.title(\"Распределение по ширине\")\n",
    "\n",
    "plt.subplot(122)\n",
    "plt.hist(sizes['height'], bins=100)\n",
    "plt.xlabel(\"Высота\")\n",
    "plt.ylabel(\"Кол-во записей\")\n",
    "plt.title(\"Распределение по высоте\")\n",
    "plt.savefig(\"p6.png\")\n",
    "plt.show()"
   ],
   "outputs": []
  }
 ],
 "metadata": {
  "kernelspec": {
   "display_name": "Python 3",
   "language": "python",
   "name": "python3"
  },
  "language_info": {
   "codemirror_mode": {
    "name": "ipython",
    "version": 3
   },
   "file_extension": ".py",
   "mimetype": "text/x-python",
   "name": "python",
   "nbconvert_exporter": "python",
   "pygments_lexer": "ipython3",
   "version": "3.11.8"
  },
  "orig_nbformat": 4
 },
 "nbformat": 4,
 "nbformat_minor": 2
}
